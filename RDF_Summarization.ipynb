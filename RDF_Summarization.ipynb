{
  "nbformat": 4,
  "nbformat_minor": 0,
  "metadata": {
    "colab": {
      "name": "RDF Summarization.ipynb",
      "provenance": [],
      "include_colab_link": true
    },
    "kernelspec": {
      "name": "python3",
      "display_name": "Python 3"
    },
    "language_info": {
      "name": "python"
    }
  },
  "cells": [
    {
      "cell_type": "markdown",
      "metadata": {
        "id": "view-in-github",
        "colab_type": "text"
      },
      "source": [
        "<a href=\"https://colab.research.google.com/github/Chraebe/SummarizationCourse/blob/main/RDF_Summarization.ipynb\" target=\"_parent\"><img src=\"https://colab.research.google.com/assets/colab-badge.svg\" alt=\"Open In Colab\"/></a>"
      ]
    },
    {
      "cell_type": "markdown",
      "metadata": {
        "id": "6OO66EI0-m6r"
      },
      "source": [
        "# RDF Summarization and Versioning"
      ]
    },
    {
      "cell_type": "code",
      "metadata": {
        "id": "L6C63yjg95t_"
      },
      "source": [
        " !pip install rdflib"
      ],
      "execution_count": null,
      "outputs": []
    }
  ]
}