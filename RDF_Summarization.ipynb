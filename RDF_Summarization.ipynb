{
  "nbformat": 4,
  "nbformat_minor": 0,
  "metadata": {
    "colab": {
      "name": "RDF Summarization.ipynb",
      "provenance": [],
      "collapsed_sections": []
    },
    "kernelspec": {
      "name": "python3",
      "display_name": "Python 3"
    },
    "language_info": {
      "name": "python"
    }
  },
  "cells": [
    {
      "cell_type": "markdown",
      "metadata": {
        "id": "6OO66EI0-m6r"
      },
      "source": [
        "# RDF Summarization and Versioning"
      ]
    },
    {
      "cell_type": "code",
      "metadata": {
        "id": "L6C63yjg95t_",
        "colab": {
          "base_uri": "https://localhost:8080/"
        },
        "outputId": "6f668531-61f6-4b8e-80ea-feda5a93ee12"
      },
      "source": [
        " !pip install rdflib"
      ],
      "execution_count": null,
      "outputs": [
        {
          "output_type": "stream",
          "text": [
            "Collecting rdflib\n",
            "\u001b[?25l  Downloading https://files.pythonhosted.org/packages/d0/6b/6454aa1db753c0f8bc265a5bd5c10b5721a4bb24160fb4faf758cf6be8a1/rdflib-5.0.0-py3-none-any.whl (231kB)\n",
            "\u001b[K     |████████████████████████████████| 235kB 7.6MB/s \n",
            "\u001b[?25hRequirement already satisfied: pyparsing in /usr/local/lib/python3.7/dist-packages (from rdflib) (2.4.7)\n",
            "Collecting isodate\n",
            "\u001b[?25l  Downloading https://files.pythonhosted.org/packages/9b/9f/b36f7774ff5ea8e428fdcfc4bb332c39ee5b9362ddd3d40d9516a55221b2/isodate-0.6.0-py2.py3-none-any.whl (45kB)\n",
            "\u001b[K     |████████████████████████████████| 51kB 5.5MB/s \n",
            "\u001b[?25hRequirement already satisfied: six in /usr/local/lib/python3.7/dist-packages (from rdflib) (1.15.0)\n",
            "Installing collected packages: isodate, rdflib\n",
            "Successfully installed isodate-0.6.0 rdflib-5.0.0\n"
          ],
          "name": "stdout"
        }
      ]
    },
    {
      "cell_type": "code",
      "metadata": {
        "id": "WJ8-sDN3vgHN"
      },
      "source": [
        "import rdflib\n",
        "import copy\n",
        "import urllib.request\n",
        "import difflib"
      ],
      "execution_count": null,
      "outputs": []
    },
    {
      "cell_type": "code",
      "metadata": {
        "id": "A1ssCFLEvmXo"
      },
      "source": [
        "ontology1 = 'https://raw.githubusercontent.com/Chraebe/SummarizationCourse/main/data/dbpedia_2015-10_tw.nt'\n",
        "ontology1_original = 'https://raw.githubusercontent.com/Chraebe/SummarizationCourse/main/data/dbpedia_2015-10.nt'\n",
        "ontology1_mapping = 'https://raw.githubusercontent.com/Chraebe/SummarizationCourse/main/data/dbpedia_2015-10_tw.nt.mapping.nt'\n",
        "ontology2 = 'https://raw.githubusercontent.com/Chraebe/SummarizationCourse/main/data/dbpedia_2016-10_tw.nt'\n",
        "ontology2_original = 'https://raw.githubusercontent.com/Chraebe/SummarizationCourse/main/data/dbpedia_2016-10.nt'\n",
        "ontology2_mapping = 'https://raw.githubusercontent.com/Chraebe/SummarizationCourse/main/data/dbpedia_2016-10_tw.nt.mapping.nt'\n",
        "additions = 'https://raw.githubusercontent.com/Chraebe/SummarizationCourse/main/data/add.nt'\n",
        "deletions = 'https://raw.githubusercontent.com/Chraebe/SummarizationCourse/main/data/del.nt'"
      ],
      "execution_count": null,
      "outputs": []
    },
    {
      "cell_type": "code",
      "metadata": {
        "colab": {
          "base_uri": "https://localhost:8080/"
        },
        "id": "82f8MjUf43cN",
        "outputId": "23790e63-0561-4746-d13e-2ba744e1493e"
      },
      "source": [
        "# Load data into rdflib graphs\n",
        "\n",
        "graph_ont1 = rdflib.Graph()\n",
        "graph_ont1.parse(ontology1, format='nt')\n",
        "\n",
        "graph_ont1_original = rdflib.Graph()\n",
        "graph_ont1_original.parse(ontology1_original, format='nt')\n",
        "\n",
        "graph_ont1_mapping = rdflib.Graph()\n",
        "graph_ont1_mapping.parse(ontology1_mapping, format='nt')\n",
        "\n",
        "graph_ont2 = rdflib.Graph()\n",
        "graph_ont2.parse(ontology2, format='nt')\n",
        "\n",
        "graph_ont2_mapping = rdflib.Graph()\n",
        "graph_ont2_mapping.parse(ontology2_mapping, format='nt')\n",
        "\n",
        "graph_add = rdflib.Graph()\n",
        "graph_add.parse(additions, format='nt')\n",
        "\n",
        "graph_del = rdflib.Graph()\n",
        "graph_del.parse(deletions, format='nt')"
      ],
      "execution_count": null,
      "outputs": [
        {
          "output_type": "execute_result",
          "data": {
            "text/plain": [
              "<Graph identifier=N4236e775b68e42adb5da0e9a6e242a80 (<class 'rdflib.graph.Graph'>)>"
            ]
          },
          "metadata": {
            "tags": []
          },
          "execution_count": 4
        }
      ]
    },
    {
      "cell_type": "code",
      "metadata": {
        "colab": {
          "base_uri": "https://localhost:8080/"
        },
        "id": "r0rYF4qm5emG",
        "outputId": "27562016-22d9-488d-b808-6dcd2cb1cb75"
      },
      "source": [
        "# Example querying\n",
        "\n",
        "qr = 'SELECT ?s WHERE {?s <http://rq.org/nodeMapping> <http://dbpedia.org/ontology/Cape> } LIMIT 10'\n",
        "res = graph_ont2_mapping.query(qr)\n",
        "\n",
        "for r in res:\n",
        "  print(r)"
      ],
      "execution_count": null,
      "outputs": [
        {
          "output_type": "stream",
          "text": [
            "(rdflib.term.URIRef('http://rq.org/tw18616'),)\n"
          ],
          "name": "stdout"
        }
      ]
    },
    {
      "cell_type": "markdown",
      "metadata": {
        "id": "nKA4uQm7ngC3"
      },
      "source": [
        "In the following code, we remove the deleted triples from the summary:"
      ]
    },
    {
      "cell_type": "code",
      "metadata": {
        "colab": {
          "base_uri": "https://localhost:8080/"
        },
        "id": "fhKD2tr9ke-n",
        "outputId": "1deea725-7cb5-4a6e-b998-629858f986e5"
      },
      "source": [
        "num = 1\n",
        "graph_tmp = copy.deepcopy(graph_ont1)\n",
        "for triple in graph_del:\n",
        "  print(f'\\rTriple {num}', end = '')\n",
        "  s = triple[0].n3()\n",
        "  p = triple[1].n3()\n",
        "  o = triple[2].n3()\n",
        "\n",
        "  # Find subject mapping\n",
        "  s_mapping_qr = f'SELECT ?s WHERE {{ ?s <http://rq.org/nodeMapping> {s} }}'\n",
        "  res = graph_ont1_mapping.query(s_mapping_qr)\n",
        "  for r in res:\n",
        "    map_s = r[0].n3()\n",
        "    map_s_rdf = r[0]\n",
        "  \n",
        "  # Find object mapping\n",
        "  map_o = \"\"\n",
        "  o_mapping_qr = f'SELECT ?s WHERE {{ ?s <http://rq.org/nodeMapping> {o} }}'\n",
        "  res = graph_ont1_mapping.query(o_mapping_qr)\n",
        "  for r in res:\n",
        "    map_o = r[0].n3()\n",
        "    map_o_rdf = r[0]\n",
        "  if map_o == \"\":\n",
        "    non_o_qr = f'SELECT ?o WHERE {{ {s} {p} ?o }}'\n",
        "    res = graph_tmp.query(non_o_qr)\n",
        "    for r in res:\n",
        "      map_o = r[0].n3()\n",
        "      map_o_rdf = r[0]\n",
        "\n",
        "  if map_o == \"\":\n",
        "    num = num + 1\n",
        "    continue\n",
        "    \n",
        "  # Find all corresponding edges in the graph. \n",
        "  # If the edge support is larger than 1, decrement\n",
        "  # If the edge support is 1, remove the edge AND the original triple\n",
        "  edge_qr = f'''SELECT ?e ?es WHERE {{\n",
        "                  ?e <http://rq.org/reifiedEdgeSubject> {map_s};\n",
        "                    <http://rq.org/reifiedEdgeProperty> {p};\n",
        "                    <http://rq.org/reifiedEdgeObject> {map_o};\n",
        "                    <http://rq.org/edgeSupport> ?es .\n",
        "                }}'''\n",
        "  res = graph_tmp.query(edge_qr)\n",
        "  for r in res:\n",
        "    e = r[0]\n",
        "    support = int(r[1])\n",
        "    support_rdf = r[1]\n",
        "    \n",
        "    graph_tmp.remove((e, rdflib.term.URIRef('http://rq.org/edgeSupport'), support_rdf))\n",
        "    if support > 1:\n",
        "      # Decrement support value\n",
        "      new_val = support - 1\n",
        "      new_support = rdflib.term.Literal(f'{new_val}')\n",
        "      graph_tmp.add((e, rdflib.term.URIRef('http://rq.org/edgeSupport'), new_support))\n",
        "    else:\n",
        "      # Remove edge and triple(s)\n",
        "      graph_tmp.remove((e, rdflib.term.URIRef('http://rq.org/reifiedEdgeSubject'), map_s_rdf))\n",
        "      graph_tmp.remove((e, rdflib.term.URIRef('http://rq.org/reifiedEdgeProperty'), triple[1]))\n",
        "      graph_tmp.remove((e, rdflib.term.URIRef('http://rq.org/reifiedEdgeObject'), map_o_rdf))\n",
        "      graph_tmp.remove((s, p, o))\n",
        "      graph_tmp.remove((s, p, map_o_rdf))\n",
        "      graph_tmp.remove((map_s_rdf, p, o))\n",
        "      graph_tmp.remove((map_s_rdf, p, map_o_rdf))\n",
        "\n",
        "  # Find/update node support.\n",
        "  # If the node support is larger than 1, decrement\n",
        "  # If the node support is 1, do nothing (the node might still be there)\n",
        "  node_qr = f'SELECT * WHERE {{ {map_s} <http://rq.org/nodeSupport> ?o }}'\n",
        "  res = graph_tmp.query(node_qr)\n",
        "  for r in res:\n",
        "    support = int(r[0])\n",
        "    support_rdf = r[0]\n",
        "    if support > 1:\n",
        "      new_val = support - 1\n",
        "      new_support = rdflib.term.Literal(f'{new_val}')\n",
        "      graph_tmp.remove((map_s_rdf, rdflib.term.URIRef('http://rq.org/nodeSupport'), support_rdf))\n",
        "      graph_tmp.add((map_s_rdf, rdflib.term.URIRef('http://rq.org/nodeSupport'), new_support))\n",
        "\n",
        "  node_qr = f'SELECT * WHERE {{ {map_o} <http://rq.org/nodeSupport> ?o }}'\n",
        "  res = graph_tmp.query(node_qr)\n",
        "  for r in res:\n",
        "    support = int(r[0])\n",
        "    support_rdf = r[0]\n",
        "    if support > 1:\n",
        "      new_val = support - 1\n",
        "      new_support = rdflib.term.Literal(f'{new_val}')\n",
        "      graph_tmp.remove((map_o_rdf, rdflib.term.URIRef('http://rq.org/nodeSupport'), support_rdf))\n",
        "      graph_tmp.add((map_o_rdf, rdflib.term.URIRef('http://rq.org/nodeSupport'), new_support))\n",
        "\n",
        "  num = num + 1"
      ],
      "execution_count": null,
      "outputs": [
        {
          "output_type": "stream",
          "text": [
            "Triple 3908"
          ],
          "name": "stdout"
        }
      ]
    },
    {
      "cell_type": "markdown",
      "metadata": {
        "id": "Onz0jj4fyxyH"
      },
      "source": [
        "Now that we have removed the deleted triples, we can add the added triples to the summary in a similar way as the additions:"
      ]
    },
    {
      "cell_type": "code",
      "metadata": {
        "colab": {
          "base_uri": "https://localhost:8080/"
        },
        "id": "TdBSqvpKGqQu",
        "outputId": "3eea0f36-9558-4c4d-b7de-4ae2588f2ccc"
      },
      "source": [
        "# Find the current edge ID value\n",
        "lines = urllib.request.urlopen(ontology1)\n",
        "line = ''\n",
        "for l in lines:\n",
        "  line = l.decode('utf-8')\n",
        "line = line.replace(\"<http://rq.org/edgetw\", \"\")\n",
        "line = line.split(\">\")[0]\n",
        "\n",
        "curr_id = int(line) + 1\n",
        "\n",
        "print(str(curr_id))"
      ],
      "execution_count": null,
      "outputs": [
        {
          "output_type": "stream",
          "text": [
            "21535\n"
          ],
          "name": "stdout"
        }
      ]
    },
    {
      "cell_type": "code",
      "metadata": {
        "id": "Z1vQlD_i6pHJ",
        "colab": {
          "base_uri": "https://localhost:8080/"
        },
        "outputId": "5244970d-6f03-4c78-c60a-acbc0f027f08"
      },
      "source": [
        "num = 1\n",
        "\n",
        "for triple in graph_add:\n",
        "  print(f'\\rTriple {num}', end = '')\n",
        "  # First, we need to find the mappings for subject and object.\n",
        "  s = triple[0].n3()\n",
        "  p = triple[1].n3()\n",
        "  o = triple[2].n3()\n",
        "\n",
        "  # Find subject mapping\n",
        "  s_mapping_qr = f'SELECT ?s WHERE {{ ?s <http://rq.org/nodeMapping> {s} }}'\n",
        "  res = graph_ont2_mapping.query(s_mapping_qr)\n",
        "  found = False\n",
        "  for r in res:\n",
        "    map_s = r[0].n3()\n",
        "    map_s_rdf = r[0]\n",
        "    found = True\n",
        "\n",
        "  if not found:\n",
        "    num = num + 1\n",
        "    continue\n",
        "\n",
        "  # Find object mapping\n",
        "  map_o = \"\"\n",
        "  o_mapping_qr = f'SELECT ?s WHERE {{ ?s <http://rq.org/nodeMapping> {o} }}'\n",
        "  res = graph_ont2_mapping.query(o_mapping_qr)\n",
        "  for r in res:\n",
        "    map_o = r[0].n3()\n",
        "    map_o_rdf = r[0]\n",
        "  if map_o == \"\":\n",
        "    non_o_qr = f'SELECT ?o WHERE {{ {s} {p} ?o }}'\n",
        "    res = graph_tmp.query(non_o_qr)\n",
        "    for r in res:\n",
        "      map_o = r[0].n3()\n",
        "      map_o_rdf = r[0]\n",
        "  if map_o == \"\":\n",
        "    non_o_qr = f'SELECT ?o WHERE {{ ?s {p} ?o }}'\n",
        "    res = graph_tmp.query(non_o_qr)\n",
        "    for r in res:\n",
        "      map_o = r[0].n3()\n",
        "      map_o_rdf = r[0]\n",
        "      break\n",
        "\n",
        "  if map_o == \"\":\n",
        "    num = num + 1\n",
        "    continue\n",
        "\n",
        "  # Find all corresponding edges in the graph. \n",
        "  # If the edge exists increment support\n",
        "  # If not, create edge\n",
        "  edge_qr = f'''SELECT ?e ?es WHERE {{\n",
        "                  ?e <http://rq.org/reifiedEdgeSubject> {map_s};\n",
        "                    <http://rq.org/reifiedEdgeProperty> {p};\n",
        "                    <http://rq.org/reifiedEdgeObject> {map_o};\n",
        "                    <http://rq.org/edgeSupport> ?es .\n",
        "                }}'''\n",
        "  found = False\n",
        "  res = graph_tmp.query(edge_qr)\n",
        "  for r in res:\n",
        "    found = True\n",
        "    e = r[0]\n",
        "    support = int(r[1])\n",
        "    support_rdf = r[1]\n",
        "\n",
        "    new_val = support + 1\n",
        "    new_support = rdflib.term.Literal(f'{new_val}')\n",
        "    graph_tmp.remove((e, rdflib.term.URIRef('http://rq.org/edgeSupport'), support_rdf))\n",
        "    graph_tmp.add((e, rdflib.term.URIRef('http://rq.org/edgeSupport'), new_support))\n",
        "\n",
        "  if not found:\n",
        "    e = rdflib.term.URIRef(f'http://rq.org/edgetw{curr_id}')\n",
        "    curr_id = curr_id + 1\n",
        "    graph_tmp.add((e, rdflib.term.URIRef('http://rq.org/reifiedEdgeSubject'), map_s_rdf))\n",
        "    graph_tmp.add((e, rdflib.term.URIRef('http://rq.org/reifiedEdgeProperty'), triple[1]))\n",
        "    graph_tmp.add((e, rdflib.term.URIRef('http://rq.org/reifiedEdgeObject'), map_o_rdf))\n",
        "    graph_tmp.add((e, rdflib.term.URIRef('http://rq.org/edgeSupport'), rdflib.term.Literal('1')))\n",
        "    graph_tmp.add((triple[0], triple[1], map_o_rdf))\n",
        "\n",
        "  # Find all corresponding nodes in the graph. \n",
        "  # If the node exists, increment support\n",
        "  # Otherwise create the node.\n",
        "  node_qr = f'SELECT * WHERE {{ {map_s} <http://rq.org/nodeSupport> ?o }}'\n",
        "  res = graph_tmp.query(node_qr)\n",
        "  found = False\n",
        "  for r in res:\n",
        "    found = True\n",
        "    support = int(r[0])\n",
        "    support_rdf = r[0]\n",
        "    if support > 1:\n",
        "      new_val = support + 1\n",
        "      new_support = rdflib.term.Literal(f'{new_val}')\n",
        "      graph_tmp.remove((map_s_rdf, rdflib.term.URIRef('http://rq.org/nodeSupport'), support_rdf))\n",
        "      graph_tmp.add((map_s_rdf, rdflib.term.URIRef('http://rq.org/nodeSupport'), new_support))\n",
        "\n",
        "  if not found:\n",
        "    graph_tmp.add((map_s_rdf, rdflib.term.URIRef('http://rq.org/nodeSupport'), rdflib.term.Literal('1')))\n",
        "\n",
        "  node_qr = f'SELECT * WHERE {{ {map_o} <http://rq.org/nodeSupport> ?o }}'\n",
        "  res = graph_tmp.query(node_qr)\n",
        "  found = False\n",
        "  for r in res:\n",
        "    found = True\n",
        "    support = int(r[0])\n",
        "    support_rdf = r[0]\n",
        "    if support > 1:\n",
        "      new_val = support + 1\n",
        "      new_support = rdflib.term.Literal(f'{new_val}')\n",
        "      graph_tmp.remove((map_o_rdf, rdflib.term.URIRef('http://rq.org/nodeSupport'), support_rdf))\n",
        "      graph_tmp.add((map_o_rdf, rdflib.term.URIRef('http://rq.org/nodeSupport'), new_support))\n",
        "\n",
        "  if not found:\n",
        "    graph_tmp.add((map_o_rdf, rdflib.term.URIRef('http://rq.org/nodeSupport'), rdflib.term.Literal('1')))\n",
        "\n",
        "  num = num + 1"
      ],
      "execution_count": null,
      "outputs": [
        {
          "output_type": "stream",
          "text": [
            "Triple 4640"
          ],
          "name": "stdout"
        }
      ]
    },
    {
      "cell_type": "code",
      "metadata": {
        "id": "5APdLdorJrIa"
      },
      "source": [
        "# Serialization of the generated summary into N-Triples \n",
        "#nt = graph_tmp.serialize(format='nt') # serialize int\n",
        "graph_tmp.serialize('output.nt', 'nt')"
      ],
      "execution_count": null,
      "outputs": []
    },
    {
      "cell_type": "markdown",
      "metadata": {
        "id": "-sO5wPwl945m"
      },
      "source": [
        "## Evaluation"
      ]
    },
    {
      "cell_type": "code",
      "metadata": {
        "id": "9iHHmb154i47"
      },
      "source": [
        "original_summary = sorted([l.decode('utf-8').rstrip() for l in urllib.request.urlopen(ontology2)])\n",
        "our_summary = sorted(graph_tmp.serialize(format='nt').decode(encoding='utf-8').split('\\n'))"
      ],
      "execution_count": null,
      "outputs": []
    },
    {
      "cell_type": "code",
      "metadata": {
        "id": "Aje9IJwLAfN7"
      },
      "source": [
        "diff = difflib.ndiff(original_summary, our_summary)\n",
        "diff = list(diff)  # can take more than 5 minutes to compute!"
      ],
      "execution_count": null,
      "outputs": []
    },
    {
      "cell_type": "code",
      "metadata": {
        "colab": {
          "base_uri": "https://localhost:8080/"
        },
        "id": "CJiZ20WBAqJ2",
        "outputId": "fa888cbe-4ef2-47fb-9732-0ea079840546"
      },
      "source": [
        "class LinesBuffer:\n",
        "  def __init__(self, size: int):\n",
        "    self.__size = size\n",
        "    self.__buf = []\n",
        "\n",
        "  def put(self, l: str):\n",
        "    self.__buf.append(l)\n",
        "    if len(self.__buf) > self.__size:\n",
        "      del self.__buf[0]\n",
        "\n",
        "  def get_buffer(self):\n",
        "    return self.__buf[:]\n",
        "\n",
        "  def clear(self):\n",
        "    self.__buf = []\n",
        "\n",
        "  def count_qm(self):\n",
        "    c = 0\n",
        "    for l in self.__buf:\n",
        "      if l[0] == '?':\n",
        "        c += 1\n",
        "    return c\n",
        "\n",
        "\n",
        "diff = [l.rstrip() for l in diff if l[0] != ' ' and len(l) > 1]\n",
        "\n",
        "d = set()\n",
        "\n",
        "cd = 0\n",
        "cs = 0\n",
        "previous_lines = LinesBuffer(4)\n",
        "for l in diff:\n",
        "  if l[0] == '+' or l[0] == '-':\n",
        "    d.add(l)\n",
        "  previous_lines.put(l)\n",
        "  if previous_lines.count_qm() == 2:\n",
        "    lines = previous_lines.get_buffer()\n",
        "    lp = ''\n",
        "    lm = ''\n",
        "    for l in lines:\n",
        "      if l[0] == '-':\n",
        "        lm = l\n",
        "      elif l[0] == '+':\n",
        "        lp = l\n",
        "    s = difflib.SequenceMatcher(None, lm, lp)\n",
        "    similarity = s.ratio()\n",
        "    if similarity < 0.95:\n",
        "      cd += 1\n",
        "    else:\n",
        "      cs += 1\n",
        "      d.remove(lm)\n",
        "      d.remove(lp)\n",
        "    previous_lines.clear()\n",
        "\n",
        "print(cd)\n",
        "print(cs)\n",
        "print(len(original_summary))\n",
        "print(len(our_summary))\n",
        "print(len(d))\n",
        "print(len(d)/(len(original_summary)+len(our_summary)))"
      ],
      "execution_count": null,
      "outputs": [
        {
          "output_type": "stream",
          "text": [
            "35442\n",
            "33993\n",
            "112882\n",
            "120784\n",
            "94774\n",
            "0.40559602167195913\n",
            "51337\n"
          ],
          "name": "stdout"
        }
      ]
    },
    {
      "cell_type": "code",
      "metadata": {
        "id": "4BTP0Wl-OjYV"
      },
      "source": [
        "s = difflib.SequenceMatcher(None, original_summary, our_summary)\n",
        "s.quick_ratio()"
      ],
      "execution_count": null,
      "outputs": []
    },
    {
      "cell_type": "code",
      "metadata": {
        "id": "d-CVbrVRpfAU"
      },
      "source": [
        ""
      ],
      "execution_count": null,
      "outputs": []
    }
  ]
}